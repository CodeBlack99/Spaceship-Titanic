{
 "cells": [
  {
   "cell_type": "code",
   "execution_count": 1,
   "id": "96ac40cb",
   "metadata": {
    "_cell_guid": "b1076dfc-b9ad-4769-8c92-a6c4dae69d19",
    "_uuid": "8f2839f25d086af736a60e9eeb907d3b93b6e0e5",
    "execution": {
     "iopub.execute_input": "2023-03-17T01:11:07.294328Z",
     "iopub.status.busy": "2023-03-17T01:11:07.293927Z",
     "iopub.status.idle": "2023-03-17T01:11:08.313916Z",
     "shell.execute_reply": "2023-03-17T01:11:08.312425Z"
    },
    "papermill": {
     "duration": 1.032484,
     "end_time": "2023-03-17T01:11:08.316888",
     "exception": false,
     "start_time": "2023-03-17T01:11:07.284404",
     "status": "completed"
    },
    "tags": []
   },
   "outputs": [
    {
     "name": "stdout",
     "output_type": "stream",
     "text": [
      "/kaggle/input/spaceship-titanic/sample_submission.csv\n",
      "/kaggle/input/spaceship-titanic/train.csv\n",
      "/kaggle/input/spaceship-titanic/test.csv\n"
     ]
    }
   ],
   "source": [
    "# This Python 3 environment comes with many helpful analytics libraries installed\n",
    "# It is defined by the kaggle/python Docker image: https://github.com/kaggle/docker-python\n",
    "# For example, here's several helpful packages to load\n",
    "\n",
    "import numpy as np # linear algebra\n",
    "import pandas as pd # data processing, CSV file I/O (e.g. pd.read_csv)\n",
    "import matplotlib.pyplot as plt\n",
    "import seaborn as sns\n",
    "\n",
    "# Input data files are available in the read-only \"../input/\" directory\n",
    "# For example, running this (by clicking run or pressing Shift+Enter) will list all files under the input directory\n",
    "\n",
    "import os\n",
    "for dirname, _, filenames in os.walk('/kaggle/input'):\n",
    "    for filename in filenames:\n",
    "        print(os.path.join(dirname, filename))\n",
    "\n",
    "# You can write up to 20GB to the current directory (/kaggle/working/) that gets preserved as output when you create a version using \"Save & Run All\" \n",
    "# You can also write temporary files to /kaggle/temp/, but they won't be saved outside of the current session"
   ]
  },
  {
   "cell_type": "code",
   "execution_count": 2,
   "id": "b9c6df76",
   "metadata": {
    "execution": {
     "iopub.execute_input": "2023-03-17T01:11:08.333757Z",
     "iopub.status.busy": "2023-03-17T01:11:08.333394Z",
     "iopub.status.idle": "2023-03-17T01:11:08.412714Z",
     "shell.execute_reply": "2023-03-17T01:11:08.412002Z"
    },
    "papermill": {
     "duration": 0.09035,
     "end_time": "2023-03-17T01:11:08.414855",
     "exception": false,
     "start_time": "2023-03-17T01:11:08.324505",
     "status": "completed"
    },
    "tags": []
   },
   "outputs": [],
   "source": [
    "train_data = pd.read_csv('/kaggle/input/spaceship-titanic/train.csv')\n",
    "test_data = pd.read_csv('/kaggle/input/spaceship-titanic/test.csv')\n",
    "sample_sub_data = pd.read_csv('/kaggle/input/spaceship-titanic/sample_submission.csv')"
   ]
  },
  {
   "cell_type": "code",
   "execution_count": 3,
   "id": "b2b7b9cc",
   "metadata": {
    "execution": {
     "iopub.execute_input": "2023-03-17T01:11:08.430256Z",
     "iopub.status.busy": "2023-03-17T01:11:08.429738Z",
     "iopub.status.idle": "2023-03-17T01:11:08.452924Z",
     "shell.execute_reply": "2023-03-17T01:11:08.451598Z"
    },
    "papermill": {
     "duration": 0.033579,
     "end_time": "2023-03-17T01:11:08.455327",
     "exception": false,
     "start_time": "2023-03-17T01:11:08.421748",
     "status": "completed"
    },
    "tags": []
   },
   "outputs": [
    {
     "name": "stdout",
     "output_type": "stream",
     "text": [
      "     PassengerId HomePlanet CryoSleep     Cabin    Destination   Age    VIP  \\\n",
      "0        0001_01     Europa     False     B/0/P    TRAPPIST-1e  39.0  False   \n",
      "1        0002_01      Earth     False     F/0/S    TRAPPIST-1e  24.0  False   \n",
      "2        0003_01     Europa     False     A/0/S    TRAPPIST-1e  58.0   True   \n",
      "3        0003_02     Europa     False     A/0/S    TRAPPIST-1e  33.0  False   \n",
      "4        0004_01      Earth     False     F/1/S    TRAPPIST-1e  16.0  False   \n",
      "...          ...        ...       ...       ...            ...   ...    ...   \n",
      "8688     9276_01     Europa     False    A/98/P    55 Cancri e  41.0   True   \n",
      "8689     9278_01      Earth      True  G/1499/S  PSO J318.5-22  18.0  False   \n",
      "8690     9279_01      Earth     False  G/1500/S    TRAPPIST-1e  26.0  False   \n",
      "8691     9280_01     Europa     False   E/608/S    55 Cancri e  32.0  False   \n",
      "8692     9280_02     Europa     False   E/608/S    TRAPPIST-1e  44.0  False   \n",
      "\n",
      "      RoomService  FoodCourt  ShoppingMall     Spa  VRDeck               Name  \\\n",
      "0             0.0        0.0           0.0     0.0     0.0    Maham Ofracculy   \n",
      "1           109.0        9.0          25.0   549.0    44.0       Juanna Vines   \n",
      "2            43.0     3576.0           0.0  6715.0    49.0      Altark Susent   \n",
      "3             0.0     1283.0         371.0  3329.0   193.0       Solam Susent   \n",
      "4           303.0       70.0         151.0   565.0     2.0  Willy Santantines   \n",
      "...           ...        ...           ...     ...     ...                ...   \n",
      "8688          0.0     6819.0           0.0  1643.0    74.0  Gravior Noxnuther   \n",
      "8689          0.0        0.0           0.0     0.0     0.0    Kurta Mondalley   \n",
      "8690          0.0        0.0        1872.0     1.0     0.0       Fayey Connon   \n",
      "8691          0.0     1049.0           0.0   353.0  3235.0   Celeon Hontichre   \n",
      "8692        126.0     4688.0           0.0     0.0    12.0   Propsh Hontichre   \n",
      "\n",
      "      Transported  \n",
      "0           False  \n",
      "1            True  \n",
      "2           False  \n",
      "3           False  \n",
      "4            True  \n",
      "...           ...  \n",
      "8688        False  \n",
      "8689        False  \n",
      "8690         True  \n",
      "8691        False  \n",
      "8692         True  \n",
      "\n",
      "[8693 rows x 14 columns]\n"
     ]
    }
   ],
   "source": [
    "print(train_data)"
   ]
  },
  {
   "cell_type": "code",
   "execution_count": 4,
   "id": "70f0b326",
   "metadata": {
    "execution": {
     "iopub.execute_input": "2023-03-17T01:11:08.470113Z",
     "iopub.status.busy": "2023-03-17T01:11:08.469790Z",
     "iopub.status.idle": "2023-03-17T01:11:08.485893Z",
     "shell.execute_reply": "2023-03-17T01:11:08.483859Z"
    },
    "papermill": {
     "duration": 0.025846,
     "end_time": "2023-03-17T01:11:08.488009",
     "exception": false,
     "start_time": "2023-03-17T01:11:08.462163",
     "status": "completed"
    },
    "tags": []
   },
   "outputs": [
    {
     "name": "stdout",
     "output_type": "stream",
     "text": [
      "     PassengerId HomePlanet CryoSleep     Cabin    Destination   Age    VIP  \\\n",
      "0        0013_01      Earth      True     G/3/S    TRAPPIST-1e  27.0  False   \n",
      "1        0018_01      Earth     False     F/4/S    TRAPPIST-1e  19.0  False   \n",
      "2        0019_01     Europa      True     C/0/S    55 Cancri e  31.0  False   \n",
      "3        0021_01     Europa     False     C/1/S    TRAPPIST-1e  38.0  False   \n",
      "4        0023_01      Earth     False     F/5/S    TRAPPIST-1e  20.0  False   \n",
      "...          ...        ...       ...       ...            ...   ...    ...   \n",
      "4272     9266_02      Earth      True  G/1496/S    TRAPPIST-1e  34.0  False   \n",
      "4273     9269_01      Earth     False       NaN    TRAPPIST-1e  42.0  False   \n",
      "4274     9271_01       Mars      True   D/296/P    55 Cancri e   NaN  False   \n",
      "4275     9273_01     Europa     False   D/297/P            NaN   NaN  False   \n",
      "4276     9277_01      Earth      True  G/1498/S  PSO J318.5-22  43.0  False   \n",
      "\n",
      "      RoomService  FoodCourt  ShoppingMall     Spa  VRDeck              Name  \n",
      "0             0.0        0.0           0.0     0.0     0.0   Nelly Carsoning  \n",
      "1             0.0        9.0           0.0  2823.0     0.0    Lerome Peckers  \n",
      "2             0.0        0.0           0.0     0.0     0.0   Sabih Unhearfus  \n",
      "3             0.0     6652.0           0.0   181.0   585.0  Meratz Caltilter  \n",
      "4            10.0        0.0         635.0     0.0     0.0   Brence Harperez  \n",
      "...           ...        ...           ...     ...     ...               ...  \n",
      "4272          0.0        0.0           0.0     0.0     0.0       Jeron Peter  \n",
      "4273          0.0      847.0          17.0    10.0   144.0     Matty Scheron  \n",
      "4274          0.0        0.0           0.0     0.0     0.0       Jayrin Pore  \n",
      "4275          0.0     2680.0           0.0     0.0   523.0    Kitakan Conale  \n",
      "4276          0.0        0.0           0.0     0.0     0.0  Lilace Leonzaley  \n",
      "\n",
      "[4277 rows x 13 columns]\n"
     ]
    }
   ],
   "source": [
    "print(test_data)"
   ]
  },
  {
   "cell_type": "code",
   "execution_count": 5,
   "id": "d6973bb7",
   "metadata": {
    "execution": {
     "iopub.execute_input": "2023-03-17T01:11:08.504760Z",
     "iopub.status.busy": "2023-03-17T01:11:08.504075Z",
     "iopub.status.idle": "2023-03-17T01:11:08.511439Z",
     "shell.execute_reply": "2023-03-17T01:11:08.510802Z"
    },
    "papermill": {
     "duration": 0.018937,
     "end_time": "2023-03-17T01:11:08.514164",
     "exception": false,
     "start_time": "2023-03-17T01:11:08.495227",
     "status": "completed"
    },
    "tags": []
   },
   "outputs": [
    {
     "name": "stdout",
     "output_type": "stream",
     "text": [
      "     PassengerId  Transported\n",
      "0        0013_01        False\n",
      "1        0018_01        False\n",
      "2        0019_01        False\n",
      "3        0021_01        False\n",
      "4        0023_01        False\n",
      "...          ...          ...\n",
      "4272     9266_02        False\n",
      "4273     9269_01        False\n",
      "4274     9271_01        False\n",
      "4275     9273_01        False\n",
      "4276     9277_01        False\n",
      "\n",
      "[4277 rows x 2 columns]\n"
     ]
    }
   ],
   "source": [
    "print(sample_sub_data)"
   ]
  },
  {
   "cell_type": "code",
   "execution_count": 6,
   "id": "4d9759fc",
   "metadata": {
    "execution": {
     "iopub.execute_input": "2023-03-17T01:11:08.529549Z",
     "iopub.status.busy": "2023-03-17T01:11:08.529234Z",
     "iopub.status.idle": "2023-03-17T01:11:08.536616Z",
     "shell.execute_reply": "2023-03-17T01:11:08.535530Z"
    },
    "papermill": {
     "duration": 0.017171,
     "end_time": "2023-03-17T01:11:08.538502",
     "exception": false,
     "start_time": "2023-03-17T01:11:08.521331",
     "status": "completed"
    },
    "tags": []
   },
   "outputs": [],
   "source": [
    "test_id = test_data.PassengerId.copy()"
   ]
  },
  {
   "cell_type": "code",
   "execution_count": 7,
   "id": "c0c44f88",
   "metadata": {
    "execution": {
     "iopub.execute_input": "2023-03-17T01:11:08.553701Z",
     "iopub.status.busy": "2023-03-17T01:11:08.553354Z",
     "iopub.status.idle": "2023-03-17T01:11:08.822820Z",
     "shell.execute_reply": "2023-03-17T01:11:08.821860Z"
    },
    "papermill": {
     "duration": 0.279471,
     "end_time": "2023-03-17T01:11:08.824839",
     "exception": false,
     "start_time": "2023-03-17T01:11:08.545368",
     "status": "completed"
    },
    "tags": []
   },
   "outputs": [
    {
     "data": {
      "text/plain": [
       "<AxesSubplot:>"
      ]
     },
     "execution_count": 7,
     "metadata": {},
     "output_type": "execute_result"
    },
    {
     "data": {
      "image/png": "[encoded data removed]",
      "text/plain": [
       "<Figure size 640x480 with 2 Axes>"
      ]
     },
     "metadata": {},
     "output_type": "display_data"
    }
   ],
   "source": [
    "corr = train_data.corr()\n",
    "sns.heatmap(corr)"
   ]
  },
  {
   "cell_type": "code",
   "execution_count": 8,
   "id": "67fc4a80",
   "metadata": {
    "execution": {
     "iopub.execute_input": "2023-03-17T01:11:08.842187Z",
     "iopub.status.busy": "2023-03-17T01:11:08.841829Z",
     "iopub.status.idle": "2023-03-17T01:11:09.022306Z",
     "shell.execute_reply": "2023-03-17T01:11:09.021602Z"
    },
    "papermill": {
     "duration": 0.19123,
     "end_time": "2023-03-17T01:11:09.024326",
     "exception": false,
     "start_time": "2023-03-17T01:11:08.833096",
     "status": "completed"
    },
    "tags": []
   },
   "outputs": [
    {
     "data": {
      "text/plain": [
       "<AxesSubplot:xlabel='Destination', ylabel='count'>"
      ]
     },
     "execution_count": 8,
     "metadata": {},
     "output_type": "execute_result"
    },
    {
     "data": {
      "image/png": "[encoded data removed]",
      "text/plain": [
       "<Figure size 640x480 with 1 Axes>"
      ]
     },
     "metadata": {},
     "output_type": "display_data"
    }
   ],
   "source": [
    "sns.countplot(data = train_data, x = \"Destination\", hue=\"Transported\")"
   ]
  },
  {
   "cell_type": "code",
   "execution_count": 9,
   "id": "f96bc4bc",
   "metadata": {
    "execution": {
     "iopub.execute_input": "2023-03-17T01:11:09.043082Z",
     "iopub.status.busy": "2023-03-17T01:11:09.041403Z",
     "iopub.status.idle": "2023-03-17T01:11:09.050186Z",
     "shell.execute_reply": "2023-03-17T01:11:09.049050Z"
    },
    "papermill": {
     "duration": 0.020062,
     "end_time": "2023-03-17T01:11:09.052276",
     "exception": false,
     "start_time": "2023-03-17T01:11:09.032214",
     "status": "completed"
    },
    "tags": []
   },
   "outputs": [
    {
     "data": {
      "text/plain": [
       "True     4378\n",
       "False    4315\n",
       "Name: Transported, dtype: int64"
      ]
     },
     "execution_count": 9,
     "metadata": {},
     "output_type": "execute_result"
    }
   ],
   "source": [
    "train_data.Transported.value_counts()"
   ]
  },
  {
   "cell_type": "code",
   "execution_count": 10,
   "id": "179f9462",
   "metadata": {
    "execution": {
     "iopub.execute_input": "2023-03-17T01:11:09.069394Z",
     "iopub.status.busy": "2023-03-17T01:11:09.069066Z",
     "iopub.status.idle": "2023-03-17T01:11:09.076257Z",
     "shell.execute_reply": "2023-03-17T01:11:09.075282Z"
    },
    "papermill": {
     "duration": 0.018544,
     "end_time": "2023-03-17T01:11:09.078653",
     "exception": false,
     "start_time": "2023-03-17T01:11:09.060109",
     "status": "completed"
    },
    "tags": []
   },
   "outputs": [
    {
     "data": {
      "text/plain": [
       "False    4277\n",
       "Name: Transported, dtype: int64"
      ]
     },
     "execution_count": 10,
     "metadata": {},
     "output_type": "execute_result"
    }
   ],
   "source": [
    "sample_sub_data.Transported.value_counts()"
   ]
  },
  {
   "cell_type": "code",
   "execution_count": 11,
   "id": "eae1f336",
   "metadata": {
    "execution": {
     "iopub.execute_input": "2023-03-17T01:11:09.097392Z",
     "iopub.status.busy": "2023-03-17T01:11:09.097032Z",
     "iopub.status.idle": "2023-03-17T01:11:09.108951Z",
     "shell.execute_reply": "2023-03-17T01:11:09.107708Z"
    },
    "papermill": {
     "duration": 0.023652,
     "end_time": "2023-03-17T01:11:09.110861",
     "exception": false,
     "start_time": "2023-03-17T01:11:09.087209",
     "status": "completed"
    },
    "tags": []
   },
   "outputs": [
    {
     "data": {
      "text/plain": [
       "0.0       5577\n",
       "1.0        117\n",
       "2.0         79\n",
       "3.0         61\n",
       "4.0         47\n",
       "          ... \n",
       "1612.0       1\n",
       "2598.0       1\n",
       "632.0        1\n",
       "378.0        1\n",
       "745.0        1\n",
       "Name: RoomService, Length: 1273, dtype: int64"
      ]
     },
     "execution_count": 11,
     "metadata": {},
     "output_type": "execute_result"
    }
   ],
   "source": [
    "train_data.RoomService.value_counts()"
   ]
  },
  {
   "cell_type": "code",
   "execution_count": 12,
   "id": "74abd47a",
   "metadata": {
    "execution": {
     "iopub.execute_input": "2023-03-17T01:11:09.129097Z",
     "iopub.status.busy": "2023-03-17T01:11:09.128739Z",
     "iopub.status.idle": "2023-03-17T01:11:09.138078Z",
     "shell.execute_reply": "2023-03-17T01:11:09.136994Z"
    },
    "papermill": {
     "duration": 0.021556,
     "end_time": "2023-03-17T01:11:09.140318",
     "exception": false,
     "start_time": "2023-03-17T01:11:09.118762",
     "status": "completed"
    },
    "tags": []
   },
   "outputs": [
    {
     "data": {
      "text/plain": [
       "0.0       5456\n",
       "1.0        116\n",
       "2.0         75\n",
       "3.0         53\n",
       "4.0         53\n",
       "          ... \n",
       "3846.0       1\n",
       "5193.0       1\n",
       "312.0        1\n",
       "827.0        1\n",
       "4688.0       1\n",
       "Name: FoodCourt, Length: 1507, dtype: int64"
      ]
     },
     "execution_count": 12,
     "metadata": {},
     "output_type": "execute_result"
    }
   ],
   "source": [
    "train_data.FoodCourt.value_counts()"
   ]
  },
  {
   "cell_type": "code",
   "execution_count": 13,
   "id": "1f2bcd36",
   "metadata": {
    "execution": {
     "iopub.execute_input": "2023-03-17T01:11:09.158798Z",
     "iopub.status.busy": "2023-03-17T01:11:09.157527Z",
     "iopub.status.idle": "2023-03-17T01:11:09.165757Z",
     "shell.execute_reply": "2023-03-17T01:11:09.164776Z"
    },
    "papermill": {
     "duration": 0.019008,
     "end_time": "2023-03-17T01:11:09.167347",
     "exception": false,
     "start_time": "2023-03-17T01:11:09.148339",
     "status": "completed"
    },
    "tags": []
   },
   "outputs": [
    {
     "data": {
      "text/plain": [
       "0.0       5577\n",
       "1.0        117\n",
       "2.0         79\n",
       "3.0         61\n",
       "4.0         47\n",
       "          ... \n",
       "1612.0       1\n",
       "2598.0       1\n",
       "632.0        1\n",
       "378.0        1\n",
       "745.0        1\n",
       "Name: RoomService, Length: 1273, dtype: int64"
      ]
     },
     "execution_count": 13,
     "metadata": {},
     "output_type": "execute_result"
    }
   ],
   "source": [
    "train_data.RoomService.value_counts()"
   ]
  },
  {
   "cell_type": "code",
   "execution_count": 14,
   "id": "8a54e2dc",
   "metadata": {
    "execution": {
     "iopub.execute_input": "2023-03-17T01:11:09.185528Z",
     "iopub.status.busy": "2023-03-17T01:11:09.185007Z",
     "iopub.status.idle": "2023-03-17T01:11:09.191779Z",
     "shell.execute_reply": "2023-03-17T01:11:09.190946Z"
    },
    "papermill": {
     "duration": 0.018003,
     "end_time": "2023-03-17T01:11:09.193514",
     "exception": false,
     "start_time": "2023-03-17T01:11:09.175511",
     "status": "completed"
    },
    "tags": []
   },
   "outputs": [
    {
     "data": {
      "text/plain": [
       "False    8291\n",
       "True      199\n",
       "Name: VIP, dtype: int64"
      ]
     },
     "execution_count": 14,
     "metadata": {},
     "output_type": "execute_result"
    }
   ],
   "source": [
    "train_data.VIP.value_counts()"
   ]
  },
  {
   "cell_type": "code",
   "execution_count": 15,
   "id": "2574f0fb",
   "metadata": {
    "execution": {
     "iopub.execute_input": "2023-03-17T01:11:09.212006Z",
     "iopub.status.busy": "2023-03-17T01:11:09.211501Z",
     "iopub.status.idle": "2023-03-17T01:11:09.407992Z",
     "shell.execute_reply": "2023-03-17T01:11:09.406598Z"
    },
    "papermill": {
     "duration": 0.209099,
     "end_time": "2023-03-17T01:11:09.410897",
     "exception": false,
     "start_time": "2023-03-17T01:11:09.201798",
     "status": "completed"
    },
    "tags": []
   },
   "outputs": [
    {
     "data": {
      "text/plain": [
       "<AxesSubplot:xlabel='VIP', ylabel='count'>"
      ]
     },
     "execution_count": 15,
     "metadata": {},
     "output_type": "execute_result"
    },
    {
     "data": {
      "image/png": "[encoded data removed]",
      "text/plain": [
       "<Figure size 640x480 with 1 Axes>"
      ]
     },
     "metadata": {},
     "output_type": "display_data"
    }
   ],
   "source": [
    "sns.countplot(x = 'VIP', hue = \"Transported\", data = train_data)"
   ]
  },
  {
   "cell_type": "code",
   "execution_count": 16,
   "id": "50439996",
   "metadata": {
    "execution": {
     "iopub.execute_input": "2023-03-17T01:11:09.430986Z",
     "iopub.status.busy": "2023-03-17T01:11:09.430628Z",
     "iopub.status.idle": "2023-03-17T01:11:09.575677Z",
     "shell.execute_reply": "2023-03-17T01:11:09.575040Z"
    },
    "papermill": {
     "duration": 0.156898,
     "end_time": "2023-03-17T01:11:09.577659",
     "exception": false,
     "start_time": "2023-03-17T01:11:09.420761",
     "status": "completed"
    },
    "tags": []
   },
   "outputs": [
    {
     "data": {
      "text/plain": [
       "<AxesSubplot:xlabel='HomePlanet', ylabel='count'>"
      ]
     },
     "execution_count": 16,
     "metadata": {},
     "output_type": "execute_result"
    },
    {
     "data": {
      "image/png": "[encoded data removed]",
      "text/plain": [
       "<Figure size 640x480 with 1 Axes>"
      ]
     },
     "metadata": {},
     "output_type": "display_data"
    }
   ],
   "source": [
    "sns.countplot(x = 'HomePlanet', hue = \"Transported\", data = train_data)"
   ]
  },
  {
   "cell_type": "code",
   "execution_count": 17,
   "id": "f0766914",
   "metadata": {
    "execution": {
     "iopub.execute_input": "2023-03-17T01:11:09.602244Z",
     "iopub.status.busy": "2023-03-17T01:11:09.601912Z",
     "iopub.status.idle": "2023-03-17T01:11:09.618599Z",
     "shell.execute_reply": "2023-03-17T01:11:09.617703Z"
    },
    "papermill": {
     "duration": 0.031057,
     "end_time": "2023-03-17T01:11:09.620827",
     "exception": false,
     "start_time": "2023-03-17T01:11:09.589770",
     "status": "completed"
    },
    "tags": []
   },
   "outputs": [
    {
     "name": "stdout",
     "output_type": "stream",
     "text": [
      "<class 'pandas.core.frame.DataFrame'>\n",
      "RangeIndex: 8693 entries, 0 to 8692\n",
      "Data columns (total 14 columns):\n",
      " #   Column        Non-Null Count  Dtype  \n",
      "---  ------        --------------  -----  \n",
      " 0   PassengerId   8693 non-null   object \n",
      " 1   HomePlanet    8492 non-null   object \n",
      " 2   CryoSleep     8476 non-null   object \n",
      " 3   Cabin         8494 non-null   object \n",
      " 4   Destination   8511 non-null   object \n",
      " 5   Age           8514 non-null   float64\n",
      " 6   VIP           8490 non-null   object \n",
      " 7   RoomService   8512 non-null   float64\n",
      " 8   FoodCourt     8510 non-null   float64\n",
      " 9   ShoppingMall  8485 non-null   float64\n",
      " 10  Spa           8510 non-null   float64\n",
      " 11  VRDeck        8505 non-null   float64\n",
      " 12  Name          8493 non-null   object \n",
      " 13  Transported   8693 non-null   bool   \n",
      "dtypes: bool(1), float64(6), object(7)\n",
      "memory usage: 891.5+ KB\n"
     ]
    }
   ],
   "source": [
    "train_data.info()"
   ]
  },
  {
   "cell_type": "code",
   "execution_count": 18,
   "id": "836afcac",
   "metadata": {
    "execution": {
     "iopub.execute_input": "2023-03-17T01:11:09.641130Z",
     "iopub.status.busy": "2023-03-17T01:11:09.640206Z",
     "iopub.status.idle": "2023-03-17T01:11:09.675345Z",
     "shell.execute_reply": "2023-03-17T01:11:09.673890Z"
    },
    "papermill": {
     "duration": 0.048469,
     "end_time": "2023-03-17T01:11:09.678356",
     "exception": false,
     "start_time": "2023-03-17T01:11:09.629887",
     "status": "completed"
    },
    "tags": []
   },
   "outputs": [
    {
     "data": {
      "text/html": [
       "<div>\n",
       "<style scoped>\n",
       "    .dataframe tbody tr th:only-of-type {\n",
       "        vertical-align: middle;\n",
       "    }\n",
       "\n",
       "    .dataframe tbody tr th {\n",
       "        vertical-align: top;\n",
       "    }\n",
       "\n",
       "    .dataframe thead th {\n",
       "        text-align: right;\n",
       "    }\n",
       "</style>\n",
       "<table border=\"1\" class=\"dataframe\">\n",
       "  <thead>\n",
       "    <tr style=\"text-align: right;\">\n",
       "      <th></th>\n",
       "      <th>Age</th>\n",
       "      <th>RoomService</th>\n",
       "      <th>FoodCourt</th>\n",
       "      <th>ShoppingMall</th>\n",
       "      <th>Spa</th>\n",
       "      <th>VRDeck</th>\n",
       "    </tr>\n",
       "  </thead>\n",
       "  <tbody>\n",
       "    <tr>\n",
       "      <th>count</th>\n",
       "      <td>8514.000000</td>\n",
       "      <td>8512.000000</td>\n",
       "      <td>8510.000000</td>\n",
       "      <td>8485.000000</td>\n",
       "      <td>8510.000000</td>\n",
       "      <td>8505.000000</td>\n",
       "    </tr>\n",
       "    <tr>\n",
       "      <th>mean</th>\n",
       "      <td>28.827930</td>\n",
       "      <td>224.687617</td>\n",
       "      <td>458.077203</td>\n",
       "      <td>173.729169</td>\n",
       "      <td>311.138778</td>\n",
       "      <td>304.854791</td>\n",
       "    </tr>\n",
       "    <tr>\n",
       "      <th>std</th>\n",
       "      <td>14.489021</td>\n",
       "      <td>666.717663</td>\n",
       "      <td>1611.489240</td>\n",
       "      <td>604.696458</td>\n",
       "      <td>1136.705535</td>\n",
       "      <td>1145.717189</td>\n",
       "    </tr>\n",
       "    <tr>\n",
       "      <th>min</th>\n",
       "      <td>0.000000</td>\n",
       "      <td>0.000000</td>\n",
       "      <td>0.000000</td>\n",
       "      <td>0.000000</td>\n",
       "      <td>0.000000</td>\n",
       "      <td>0.000000</td>\n",
       "    </tr>\n",
       "    <tr>\n",
       "      <th>25%</th>\n",
       "      <td>19.000000</td>\n",
       "      <td>0.000000</td>\n",
       "      <td>0.000000</td>\n",
       "      <td>0.000000</td>\n",
       "      <td>0.000000</td>\n",
       "      <td>0.000000</td>\n",
       "    </tr>\n",
       "    <tr>\n",
       "      <th>50%</th>\n",
       "      <td>27.000000</td>\n",
       "      <td>0.000000</td>\n",
       "      <td>0.000000</td>\n",
       "      <td>0.000000</td>\n",
       "      <td>0.000000</td>\n",
       "      <td>0.000000</td>\n",
       "    </tr>\n",
       "    <tr>\n",
       "      <th>75%</th>\n",
       "      <td>38.000000</td>\n",
       "      <td>47.000000</td>\n",
       "      <td>76.000000</td>\n",
       "      <td>27.000000</td>\n",
       "      <td>59.000000</td>\n",
       "      <td>46.000000</td>\n",
       "    </tr>\n",
       "    <tr>\n",
       "      <th>max</th>\n",
       "      <td>79.000000</td>\n",
       "      <td>14327.000000</td>\n",
       "      <td>29813.000000</td>\n",
       "      <td>23492.000000</td>\n",
       "      <td>22408.000000</td>\n",
       "      <td>24133.000000</td>\n",
       "    </tr>\n",
       "  </tbody>\n",
       "</table>\n",
       "</div>"
      ],
      "text/plain": [
       "               Age   RoomService     FoodCourt  ShoppingMall           Spa  \\\n",
       "count  8514.000000   8512.000000   8510.000000   8485.000000   8510.000000   \n",
       "mean     28.827930    224.687617    458.077203    173.729169    311.138778   \n",
       "std      14.489021    666.717663   1611.489240    604.696458   1136.705535   \n",
       "min       0.000000      0.000000      0.000000      0.000000      0.000000   \n",
       "25%      19.000000      0.000000      0.000000      0.000000      0.000000   \n",
       "50%      27.000000      0.000000      0.000000      0.000000      0.000000   \n",
       "75%      38.000000     47.000000     76.000000     27.000000     59.000000   \n",
       "max      79.000000  14327.000000  29813.000000  23492.000000  22408.000000   \n",
       "\n",
       "             VRDeck  \n",
       "count   8505.000000  \n",
       "mean     304.854791  \n",
       "std     1145.717189  \n",
       "min        0.000000  \n",
       "25%        0.000000  \n",
       "50%        0.000000  \n",
       "75%       46.000000  \n",
       "max    24133.000000  "
      ]
     },
     "execution_count": 18,
     "metadata": {},
     "output_type": "execute_result"
    }
   ],
   "source": [
    "train_data.describe()"
   ]
  },
  {
   "cell_type": "code",
   "execution_count": 19,
   "id": "174e9f8a",
   "metadata": {
    "execution": {
     "iopub.execute_input": "2023-03-17T01:11:09.699571Z",
     "iopub.status.busy": "2023-03-17T01:11:09.699241Z",
     "iopub.status.idle": "2023-03-17T01:11:09.709955Z",
     "shell.execute_reply": "2023-03-17T01:11:09.708900Z"
    },
    "papermill": {
     "duration": 0.024126,
     "end_time": "2023-03-17T01:11:09.712188",
     "exception": false,
     "start_time": "2023-03-17T01:11:09.688062",
     "status": "completed"
    },
    "tags": []
   },
   "outputs": [],
   "source": [
    "x = train_data.drop(['Transported', \"Cabin\", \"Name\", \"PassengerId\"], axis = 1)\n",
    "y = train_data['Transported']\n",
    "x_test = test_data.drop([\"Cabin\", \"Name\", \"PassengerId\"], axis = 1)\n",
    "y_test = sample_sub_data.iloc[:, 1:]"
   ]
  },
  {
   "cell_type": "code",
   "execution_count": 20,
   "id": "716b35c6",
   "metadata": {
    "execution": {
     "iopub.execute_input": "2023-03-17T01:11:09.732883Z",
     "iopub.status.busy": "2023-03-17T01:11:09.732100Z",
     "iopub.status.idle": "2023-03-17T01:11:09.752609Z",
     "shell.execute_reply": "2023-03-17T01:11:09.751697Z"
    },
    "papermill": {
     "duration": 0.033245,
     "end_time": "2023-03-17T01:11:09.754853",
     "exception": false,
     "start_time": "2023-03-17T01:11:09.721608",
     "status": "completed"
    },
    "tags": []
   },
   "outputs": [],
   "source": [
    "x = pd.get_dummies(x)\n",
    "x_test = pd.get_dummies(x_test)\n",
    "y_test = pd.get_dummies(y_test)"
   ]
  },
  {
   "cell_type": "code",
   "execution_count": 21,
   "id": "e08f6e26",
   "metadata": {
    "execution": {
     "iopub.execute_input": "2023-03-17T01:11:09.775993Z",
     "iopub.status.busy": "2023-03-17T01:11:09.775151Z",
     "iopub.status.idle": "2023-03-17T01:11:09.783770Z",
     "shell.execute_reply": "2023-03-17T01:11:09.781960Z"
    },
    "papermill": {
     "duration": 0.021834,
     "end_time": "2023-03-17T01:11:09.786218",
     "exception": false,
     "start_time": "2023-03-17T01:11:09.764384",
     "status": "completed"
    },
    "tags": []
   },
   "outputs": [
    {
     "name": "stdout",
     "output_type": "stream",
     "text": [
      "Age             179\n",
      "RoomService     181\n",
      "FoodCourt       183\n",
      "ShoppingMall    208\n",
      "Spa             183\n",
      "VRDeck          188\n",
      "dtype: int64\n"
     ]
    }
   ],
   "source": [
    "missing_vals = x.isnull().sum()\n",
    "print(missing_vals[missing_vals > 0])"
   ]
  },
  {
   "cell_type": "code",
   "execution_count": 22,
   "id": "55844cfd",
   "metadata": {
    "execution": {
     "iopub.execute_input": "2023-03-17T01:11:09.807910Z",
     "iopub.status.busy": "2023-03-17T01:11:09.806702Z",
     "iopub.status.idle": "2023-03-17T01:11:09.815986Z",
     "shell.execute_reply": "2023-03-17T01:11:09.815060Z"
    },
    "papermill": {
     "duration": 0.022014,
     "end_time": "2023-03-17T01:11:09.818027",
     "exception": false,
     "start_time": "2023-03-17T01:11:09.796013",
     "status": "completed"
    },
    "tags": []
   },
   "outputs": [],
   "source": [
    "x = x.fillna(x.mean())"
   ]
  },
  {
   "cell_type": "code",
   "execution_count": 23,
   "id": "e489b811",
   "metadata": {
    "execution": {
     "iopub.execute_input": "2023-03-17T01:11:09.839045Z",
     "iopub.status.busy": "2023-03-17T01:11:09.838150Z",
     "iopub.status.idle": "2023-03-17T01:11:09.847972Z",
     "shell.execute_reply": "2023-03-17T01:11:09.846829Z"
    },
    "papermill": {
     "duration": 0.02271,
     "end_time": "2023-03-17T01:11:09.850192",
     "exception": false,
     "start_time": "2023-03-17T01:11:09.827482",
     "status": "completed"
    },
    "tags": []
   },
   "outputs": [],
   "source": [
    "x_test = x_test.fillna(x_test.mean())"
   ]
  },
  {
   "cell_type": "code",
   "execution_count": 24,
   "id": "c1120253",
   "metadata": {
    "execution": {
     "iopub.execute_input": "2023-03-17T01:11:09.870400Z",
     "iopub.status.busy": "2023-03-17T01:11:09.870092Z",
     "iopub.status.idle": "2023-03-17T01:11:09.877930Z",
     "shell.execute_reply": "2023-03-17T01:11:09.876702Z"
    },
    "papermill": {
     "duration": 0.020628,
     "end_time": "2023-03-17T01:11:09.880202",
     "exception": false,
     "start_time": "2023-03-17T01:11:09.859574",
     "status": "completed"
    },
    "tags": []
   },
   "outputs": [
    {
     "name": "stdout",
     "output_type": "stream",
     "text": [
      "Series([], dtype: int64)\n"
     ]
    }
   ],
   "source": [
    "missing_vals = x.isnull().sum()\n",
    "print(missing_vals[missing_vals > 0])"
   ]
  },
  {
   "cell_type": "code",
   "execution_count": 25,
   "id": "c0290bb5",
   "metadata": {
    "execution": {
     "iopub.execute_input": "2023-03-17T01:11:09.901341Z",
     "iopub.status.busy": "2023-03-17T01:11:09.900246Z",
     "iopub.status.idle": "2023-03-17T01:11:36.872995Z",
     "shell.execute_reply": "2023-03-17T01:11:36.870823Z"
    },
    "papermill": {
     "duration": 26.98659,
     "end_time": "2023-03-17T01:11:36.876029",
     "exception": false,
     "start_time": "2023-03-17T01:11:09.889439",
     "status": "completed"
    },
    "tags": []
   },
   "outputs": [
    {
     "data": {
      "text/html": [
       "<style type='text/css'>\n",
       ".datatable table.frame { margin-bottom: 0; }\n",
       ".datatable table.frame thead { border-bottom: none; }\n",
       ".datatable table.frame tr.coltypes td {  color: #FFFFFF;  line-height: 6px;  padding: 0 0.5em;}\n",
       ".datatable .bool    { background: #DDDD99; }\n",
       ".datatable .object  { background: #565656; }\n",
       ".datatable .int     { background: #5D9E5D; }\n",
       ".datatable .float   { background: #4040CC; }\n",
       ".datatable .str     { background: #CC4040; }\n",
       ".datatable .time    { background: #40CC40; }\n",
       ".datatable .row_index {  background: var(--jp-border-color3);  border-right: 1px solid var(--jp-border-color0);  color: var(--jp-ui-font-color3);  font-size: 9px;}\n",
       ".datatable .frame tbody td { text-align: left; }\n",
       ".datatable .frame tr.coltypes .row_index {  background: var(--jp-border-color0);}\n",
       ".datatable th:nth-child(2) { padding-left: 12px; }\n",
       ".datatable .hellipsis {  color: var(--jp-cell-editor-border-color);}\n",
       ".datatable .vellipsis {  background: var(--jp-layout-color0);  color: var(--jp-cell-editor-border-color);}\n",
       ".datatable .na {  color: var(--jp-cell-editor-border-color);  font-size: 80%;}\n",
       ".datatable .sp {  opacity: 0.25;}\n",
       ".datatable .footer { font-size: 9px; }\n",
       ".datatable .frame_dimensions {  background: var(--jp-border-color3);  border-top: 1px solid var(--jp-border-color0);  color: var(--jp-ui-font-color3);  display: inline-block;  opacity: 0.6;  padding: 1px 10px 1px 5px;}\n",
       "</style>\n"
      ],
      "text/plain": [
       "<IPython.core.display.HTML object>"
      ]
     },
     "metadata": {},
     "output_type": "display_data"
    },
    {
     "name": "stdout",
     "output_type": "stream",
     "text": [
      "Accuracy: 0.798 (0.018)\n"
     ]
    }
   ],
   "source": [
    "from lightgbm import LGBMClassifier\n",
    "from numpy import mean\n",
    "from numpy import std\n",
    "from sklearn.model_selection import cross_val_score\n",
    "from sklearn.model_selection import RepeatedStratifiedKFold\n",
    "from sklearn.cluster import KMeans\n",
    "from sklearn.preprocessing import StandardScaler\n",
    "from sklearn.pipeline import Pipeline\n",
    "\n",
    "p = Pipeline ([\n",
    "    (\"std\", StandardScaler()),\n",
    "    (\"lgbm\", LGBMClassifier(learning_rate=0.05, n_estimators = 100)),\n",
    "])\n",
    "kfold = RepeatedStratifiedKFold(n_splits=20, n_repeats=5, random_state=1)\n",
    "n_scores = cross_val_score(p, x, y, scoring='accuracy', cv=kfold, n_jobs=-1)\n",
    "print('Accuracy: %.3f (%.3f)' % (mean(n_scores), std(n_scores)))"
   ]
  },
  {
   "cell_type": "code",
   "execution_count": 26,
   "id": "4b7d4430",
   "metadata": {
    "execution": {
     "iopub.execute_input": "2023-03-17T01:11:36.897839Z",
     "iopub.status.busy": "2023-03-17T01:11:36.897507Z",
     "iopub.status.idle": "2023-03-17T01:11:38.103010Z",
     "shell.execute_reply": "2023-03-17T01:11:38.101582Z"
    },
    "papermill": {
     "duration": 1.21982,
     "end_time": "2023-03-17T01:11:38.105908",
     "exception": false,
     "start_time": "2023-03-17T01:11:36.886088",
     "status": "completed"
    },
    "tags": []
   },
   "outputs": [],
   "source": [
    "prediction = p.fit( \n",
    "    x, y, \n",
    ")"
   ]
  },
  {
   "cell_type": "code",
   "execution_count": 27,
   "id": "685a04ec",
   "metadata": {
    "execution": {
     "iopub.execute_input": "2023-03-17T01:11:38.127871Z",
     "iopub.status.busy": "2023-03-17T01:11:38.126775Z",
     "iopub.status.idle": "2023-03-17T01:11:38.151728Z",
     "shell.execute_reply": "2023-03-17T01:11:38.150533Z"
    },
    "papermill": {
     "duration": 0.0383,
     "end_time": "2023-03-17T01:11:38.154160",
     "exception": false,
     "start_time": "2023-03-17T01:11:38.115860",
     "status": "completed"
    },
    "tags": []
   },
   "outputs": [],
   "source": [
    "preds = p.predict(x)"
   ]
  },
  {
   "cell_type": "code",
   "execution_count": 28,
   "id": "ff18d276",
   "metadata": {
    "execution": {
     "iopub.execute_input": "2023-03-17T01:11:38.176147Z",
     "iopub.status.busy": "2023-03-17T01:11:38.175851Z",
     "iopub.status.idle": "2023-03-17T01:11:38.181669Z",
     "shell.execute_reply": "2023-03-17T01:11:38.180696Z"
    },
    "papermill": {
     "duration": 0.018742,
     "end_time": "2023-03-17T01:11:38.183560",
     "exception": false,
     "start_time": "2023-03-17T01:11:38.164818",
     "status": "completed"
    },
    "tags": []
   },
   "outputs": [
    {
     "data": {
      "text/plain": [
       "array([ True, False, False, ...,  True, False,  True])"
      ]
     },
     "execution_count": 28,
     "metadata": {},
     "output_type": "execute_result"
    }
   ],
   "source": [
    "preds"
   ]
  },
  {
   "cell_type": "code",
   "execution_count": 29,
   "id": "a8a42228",
   "metadata": {
    "execution": {
     "iopub.execute_input": "2023-03-17T01:11:38.205168Z",
     "iopub.status.busy": "2023-03-17T01:11:38.204854Z",
     "iopub.status.idle": "2023-03-17T01:11:38.471777Z",
     "shell.execute_reply": "2023-03-17T01:11:38.470542Z"
    },
    "papermill": {
     "duration": 0.280183,
     "end_time": "2023-03-17T01:11:38.473714",
     "exception": false,
     "start_time": "2023-03-17T01:11:38.193531",
     "status": "completed"
    },
    "tags": []
   },
   "outputs": [
    {
     "data": {
      "image/png": "[encoded data removed]",
      "text/plain": [
       "<Figure size 640x480 with 2 Axes>"
      ]
     },
     "metadata": {},
     "output_type": "display_data"
    }
   ],
   "source": [
    "from sklearn.metrics import confusion_matrix,ConfusionMatrixDisplay\n",
    "\n",
    "confusion_matrix(y, preds)\n",
    "\n",
    "ConfusionMatrixDisplay.from_predictions(y, preds, normalize = \"true\", values_format = \".0%\")\n",
    "plt.show()"
   ]
  },
  {
   "cell_type": "code",
   "execution_count": 30,
   "id": "29bedbf0",
   "metadata": {
    "execution": {
     "iopub.execute_input": "2023-03-17T01:11:38.496150Z",
     "iopub.status.busy": "2023-03-17T01:11:38.495842Z",
     "iopub.status.idle": "2023-03-17T01:11:38.511397Z",
     "shell.execute_reply": "2023-03-17T01:11:38.509999Z"
    },
    "papermill": {
     "duration": 0.029906,
     "end_time": "2023-03-17T01:11:38.513802",
     "exception": false,
     "start_time": "2023-03-17T01:11:38.483896",
     "status": "completed"
    },
    "tags": []
   },
   "outputs": [],
   "source": [
    "preds_test = p.predict(x_test)"
   ]
  },
  {
   "cell_type": "code",
   "execution_count": 31,
   "id": "d260cecd",
   "metadata": {
    "execution": {
     "iopub.execute_input": "2023-03-17T01:11:38.536106Z",
     "iopub.status.busy": "2023-03-17T01:11:38.535726Z",
     "iopub.status.idle": "2023-03-17T01:11:38.540300Z",
     "shell.execute_reply": "2023-03-17T01:11:38.539267Z"
    },
    "papermill": {
     "duration": 0.018602,
     "end_time": "2023-03-17T01:11:38.542702",
     "exception": false,
     "start_time": "2023-03-17T01:11:38.524100",
     "status": "completed"
    },
    "tags": []
   },
   "outputs": [],
   "source": [
    "preds_test = preds_test.flatten()"
   ]
  },
  {
   "cell_type": "code",
   "execution_count": 32,
   "id": "375e4b49",
   "metadata": {
    "execution": {
     "iopub.execute_input": "2023-03-17T01:11:38.564788Z",
     "iopub.status.busy": "2023-03-17T01:11:38.564439Z",
     "iopub.status.idle": "2023-03-17T01:11:38.578918Z",
     "shell.execute_reply": "2023-03-17T01:11:38.578168Z"
    },
    "papermill": {
     "duration": 0.0281,
     "end_time": "2023-03-17T01:11:38.581137",
     "exception": false,
     "start_time": "2023-03-17T01:11:38.553037",
     "status": "completed"
    },
    "tags": []
   },
   "outputs": [],
   "source": [
    "output = pd.DataFrame({'PassengerId': test_id,\n",
    "                       'Transported': preds_test.astype(bool)})\n",
    "\n",
    "output.to_csv('submission.csv', index=False)"
   ]
  }
 ],
 "metadata": {
  "kernelspec": {
   "display_name": "Python 3",
   "language": "python",
   "name": "python3"
  },
  "language_info": {
   "codemirror_mode": {
    "name": "ipython",
    "version": 3
   },
   "file_extension": ".py",
   "mimetype": "text/x-python",
   "name": "python",
   "nbconvert_exporter": "python",
   "pygments_lexer": "ipython3",
   "version": "3.7.12"
  },
  "papermill": {
   "default_parameters": {},
   "duration": 42.22435,
   "end_time": "2023-03-17T01:11:41.212624",
   "environment_variables": {},
   "exception": null,
   "input_path": "__notebook__.ipynb",
   "output_path": "__notebook__.ipynb",
   "parameters": {},
   "start_time": "2023-03-17T01:10:58.988274",
   "version": "2.4.0"
  }
 },
 "nbformat": 4,
 "nbformat_minor": 5
}
